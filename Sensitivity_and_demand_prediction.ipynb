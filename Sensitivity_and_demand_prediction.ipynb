{
  "nbformat": 4,
  "nbformat_minor": 0,
  "metadata": {
    "colab": {
      "provenance": [],
      "authorship_tag": "ABX9TyOEPiFdl1ZNCyAN1dWOnCWQ",
      "include_colab_link": true
    },
    "kernelspec": {
      "name": "python3",
      "display_name": "Python 3"
    },
    "language_info": {
      "name": "python"
    }
  },
  "cells": [
    {
      "cell_type": "markdown",
      "metadata": {
        "id": "view-in-github",
        "colab_type": "text"
      },
      "source": [
        "<a href=\"https://colab.research.google.com/github/knock0knock/Projects/blob/main/Sensitivity_and_demand_prediction.ipynb\" target=\"_parent\"><img src=\"https://colab.research.google.com/assets/colab-badge.svg\" alt=\"Open In Colab\"/></a>"
      ]
    },
    {
      "cell_type": "code",
      "source": [
        "import pandas as pd\n",
        "import statsmodels.api as sm\n",
        "\n",
        "# Step 1: Load and preprocess the data\n",
        "df = pd.read_csv(r'Loveelectric.csv')\n",
        "\n"
      ],
      "metadata": {
        "id": "-zNM_p4DkTOd"
      },
      "execution_count": null,
      "outputs": []
    },
    {
      "cell_type": "code",
      "source": [
        "# Step 2: Select relevant columns for the analysis\n",
        "price_sensitivity_cols = ['P11D Value at Order', 'Salary', 'Age of Driver', 'Annual Mileage', 'Term Months', 'Net monthly cost']\n",
        "\n",
        "# Step 3: Convert data to appropriate data types\n",
        "df['P11D Value at Order'] = pd.to_numeric(df['P11D Value at Order'], errors='coerce')\n",
        "df['Salary'] = pd.to_numeric(df['Salary'], errors='coerce')\n",
        "df['Net monthly cost'] = pd.to_numeric(df['Net monthly cost'], errors='coerce')\n",
        "df['Age of Driver'] = pd.to_numeric(df['Age of Driver'], errors='coerce')\n",
        "df['Annual Mileage'] = pd.to_numeric(df['Annual Mileage'], errors='coerce')\n",
        "df['Term Months'] = pd.to_numeric(df['Term Months'], errors='coerce')\n",
        "\n",
        "\n",
        "# Step 4: Prepare the dependent (target) and independent variables\n",
        "X = df[price_sensitivity_cols]\n",
        "X = sm.add_constant(X)  # Add a constant for the intercept term in the regression model\n",
        "y = df['Orders']  # Assuming 'Number of Car Orders' is the dependent variable representing demand\n",
        "\n",
        "# Step 5: Fit a linear regression model\n",
        "model = sm.OLS(y, X).fit()\n",
        "\n",
        "# Step 6: Print the model summary\n",
        "print(model.summary())\n",
        "\n",
        "# Calculate the elasticity of demand for each pricing variable\n",
        "elasticity = model.params[1:] * (df[price_sensitivity_cols].mean() / df['Orders'].mean())\n",
        "print(\"Elasticity of Demand:\")\n",
        "print(elasticity)"
      ],
      "metadata": {
        "colab": {
          "base_uri": "https://localhost:8080/"
        },
        "id": "CTMXi6JanNd0",
        "outputId": "4eed5a4a-6946-4719-ec98-169a8a1142e4"
      },
      "execution_count": null,
      "outputs": [
        {
          "output_type": "stream",
          "name": "stdout",
          "text": [
            "                            OLS Regression Results                            \n",
            "==============================================================================\n",
            "Dep. Variable:                 Orders   R-squared:                       0.019\n",
            "Model:                            OLS   Adj. R-squared:                  0.015\n",
            "Method:                 Least Squares   F-statistic:                     4.385\n",
            "Date:                Sat, 02 Sep 2023   Prob (F-statistic):           0.000214\n",
            "Time:                        22:46:59   Log-Likelihood:                -979.67\n",
            "No. Observations:                1377   AIC:                             1973.\n",
            "Df Residuals:                    1370   BIC:                             2010.\n",
            "Df Model:                           6                                         \n",
            "Covariance Type:            nonrobust                                         \n",
            "=======================================================================================\n",
            "                          coef    std err          t      P>|t|      [0.025      0.975]\n",
            "---------------------------------------------------------------------------------------\n",
            "const                   0.8304      0.119      6.960      0.000       0.596       1.064\n",
            "P11D Value at Order  -2.85e-06   1.78e-06     -1.601      0.110   -6.34e-06    6.43e-07\n",
            "Salary               1.486e-07   2.45e-07      0.606      0.544   -3.32e-07    6.29e-07\n",
            "Age of Driver          -0.0001      0.002     -0.071      0.943      -0.003       0.003\n",
            "Annual Mileage       6.614e-06   3.04e-06      2.175      0.030    6.47e-07    1.26e-05\n",
            "Term Months            -0.0037      0.002     -1.795      0.073      -0.008       0.000\n",
            "Net monthly cost       -0.0001      0.000     -0.774      0.439      -0.000       0.000\n",
            "==============================================================================\n",
            "Omnibus:                     5447.378   Durbin-Watson:                   1.927\n",
            "Prob(Omnibus):                  0.000   Jarque-Bera (JB):              213.194\n",
            "Skew:                          -0.202   Prob(JB):                     5.08e-47\n",
            "Kurtosis:                       1.115   Cond. No.                     1.05e+06\n",
            "==============================================================================\n",
            "\n",
            "Notes:\n",
            "[1] Standard Errors assume that the covariance matrix of the errors is correctly specified.\n",
            "[2] The condition number is large, 1.05e+06. This might indicate that there are\n",
            "strong multicollinearity or other numerical problems.\n",
            "Elasticity of Demand:\n",
            "P11D Value at Order   -0.266095\n",
            "Salary                 0.023886\n",
            "Age of Driver         -0.009100\n",
            "Annual Mileage         0.138769\n",
            "Term Months           -0.277511\n",
            "Net monthly cost      -0.122498\n",
            "dtype: float64\n"
          ]
        }
      ]
    },
    {
      "cell_type": "code",
      "source": [
        "# Step 2: Select relevant columns for the analysis\n",
        "price_sensitivity_cols = ['P11D Value at Order', 'Salary', 'Net monthly cost']\n",
        "\n",
        "# Step 3: Convert data to appropriate data types\n",
        "df['P11D Value at Order'] = pd.to_numeric(df['P11D Value at Order'], errors='coerce')\n",
        "df['Salary'] = pd.to_numeric(df['Salary'], errors='coerce')\n",
        "df['Net monthly cost'] = pd.to_numeric(df['Net monthly cost'], errors='coerce')\n",
        "\n",
        "# Step 4: Prepare the dependent (target) and independent variables\n",
        "X = df[price_sensitivity_cols]\n",
        "X = sm.add_constant(X)  # Add a constant for the intercept term in the regression model\n",
        "y = df['Orders']  # Assuming 'Number of Car Orders' is the dependent variable representing demand\n",
        "\n",
        "# Step 5: Fit a linear regression model\n",
        "model = sm.OLS(y, X).fit()\n",
        "\n",
        "# Step 6: Perform price sensitivity analysis\n",
        "# Create a range of values to vary the pricing variables\n",
        "p11d_values = [25940, 41920, 50935, 56825, 139235]\n",
        "salaries = [22140, 54075, 72800, 105000,700000]\n",
        "net_monthly_costs = [161, 439, 535,639,1392]\n",
        "\n",
        "# Store the results of the price sensitivity analysis\n",
        "results = []\n",
        "\n",
        "# Loop through each scenario and calculate the predicted demand\n",
        "for p11d_value in p11d_values:\n",
        "    for salary in salaries:\n",
        "        for net_monthly_cost in net_monthly_costs:\n",
        "            scenario = [1, p11d_value, salary, net_monthly_cost]\n",
        "            predicted_demand = model.predict(scenario)\n",
        "            results.append({\n",
        "                'P11D Value at Order': p11d_value,\n",
        "                'Salary': salary,\n",
        "                'Net monthly cost': net_monthly_cost,\n",
        "                'Predicted Demand': predicted_demand[0]\n",
        "            })\n",
        "\n",
        "# Step 7: Display the results\n",
        "price_sensitivity_df = pd.DataFrame(results)\n",
        "print(price_sensitivity_df)"
      ],
      "metadata": {
        "colab": {
          "base_uri": "https://localhost:8080/"
        },
        "id": "sPnRZQKKoO0L",
        "outputId": "41b0c92b-7186-421b-da5f-cb78a37b0276"
      },
      "execution_count": null,
      "outputs": [
        {
          "output_type": "stream",
          "name": "stdout",
          "text": [
            "     P11D Value at Order  Salary  Net monthly cost  Predicted Demand\n",
            "0                  25940   22140               161          0.633475\n",
            "1                  25940   22140               439          0.638677\n",
            "2                  25940   22140               535          0.640473\n",
            "3                  25940   22140               639          0.642419\n",
            "4                  25940   22140              1392          0.656507\n",
            "..                   ...     ...               ...               ...\n",
            "120               139235  700000               161          0.292371\n",
            "121               139235  700000               439          0.297572\n",
            "122               139235  700000               535          0.299369\n",
            "123               139235  700000               639          0.301314\n",
            "124               139235  700000              1392          0.315402\n",
            "\n",
            "[125 rows x 4 columns]\n"
          ]
        }
      ]
    },
    {
      "cell_type": "code",
      "source": [
        "# Step 8: Find the combination with the highest predicted demand\n",
        "optimal_scenario = price_sensitivity_df.loc[price_sensitivity_df['Predicted Demand'].idxmax()]\n",
        "\n",
        "# Step 9: Display the optimal pricing strategy and predicted demand\n",
        "print(\"Optimal Pricing Strategy:\")\n",
        "print(\"P11D Value at Order:\", optimal_scenario['P11D Value at Order'])\n",
        "print(\"Salary:\", optimal_scenario['Salary'])\n",
        "print(\"Net Monthly Cost:\", optimal_scenario['Net monthly cost'])\n",
        "print(\"Predicted Demand:\", optimal_scenario['Predicted Demand'])\n"
      ],
      "metadata": {
        "colab": {
          "base_uri": "https://localhost:8080/"
        },
        "id": "Vy6cm7vL9nwE",
        "outputId": "d45ea744-153d-474c-a4a2-88cc435f99c2"
      },
      "execution_count": null,
      "outputs": [
        {
          "output_type": "stream",
          "name": "stdout",
          "text": [
            "Optimal Pricing Strategy:\n",
            "P11D Value at Order: 25940.0\n",
            "Salary: 700000.0\n",
            "Net Monthly Cost: 1392.0\n",
            "Predicted Demand: 0.7803749320619027\n"
          ]
        }
      ]
    }
  ]
}